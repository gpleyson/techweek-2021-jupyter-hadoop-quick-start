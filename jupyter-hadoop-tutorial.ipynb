{
 "cells": [
  {
   "cell_type": "markdown",
   "id": "8f78a20c-1ef7-43b9-9592-9bea031cd84e",
   "metadata": {},
   "source": [
    "# Jupyter - hadoop quick start tutorial"
   ]
  },
  {
   "cell_type": "markdown",
   "id": "b692f00f-db1e-444d-b6fa-a7e208f2fb40",
   "metadata": {},
   "source": [
    "## Preamble"
   ]
  },
  {
   "cell_type": "code",
   "execution_count": 1,
   "id": "05ef22f2-287a-4173-bb43-17418ba6a67f",
   "metadata": {},
   "outputs": [],
   "source": [
    "### Preamble\n",
    "%matplotlib inline\n",
    "%load_ext autoreload\n",
    "%autoreload 2\n",
    "\n",
    "import matplotlib.pyplot as plt\n",
    "import numpy as np\n",
    "import pandas as pd\n",
    "import hadoop_tools_simple as ht"
   ]
  },
  {
   "cell_type": "markdown",
   "id": "1141c54e-8d8e-4725-af21-fc55fc8618a4",
   "metadata": {},
   "source": [
    "___"
   ]
  },
  {
   "cell_type": "markdown",
   "id": "23d46553-b6d2-4f65-8e2d-32d44c920b06",
   "metadata": {},
   "source": [
    "## Basic Jupyter commands\n",
    "Jupyter has multiple modes, much like Vim. \n",
    "- If you see a blinking | in a cell, you're in edit mode. Esc to go to command mode.\n",
    "- If you don't see a a blinking | in a cell, you're in. Enter to go into edit mode."
   ]
  },
  {
   "cell_type": "markdown",
   "id": "bce26f9a-63a6-483f-98c6-ef4e4f3cf98f",
   "metadata": {},
   "source": [
    "### Basic jupyter commands (edit mode)\n",
    "- shift + enter: execute cell, move to next cell\n",
    "- ctrl + enter: execute cell in place"
   ]
  },
  {
   "cell_type": "code",
   "execution_count": 2,
   "id": "2b61a1de-f4a1-4e07-bee9-a0a68a5cec2f",
   "metadata": {},
   "outputs": [
    {
     "name": "stdout",
     "output_type": "stream",
     "text": [
      "Hello world!\n"
     ]
    }
   ],
   "source": [
    "print('Hello world!')"
   ]
  },
  {
   "cell_type": "markdown",
   "id": "146d9cdb-45f3-4c35-a062-ffcb84896721",
   "metadata": {},
   "source": [
    "### Command mode shortcuts\n",
    "- shift + enter: execute cell, move to next cell\n",
    "- ctrl + enter: execute cell in place"
   ]
  },
  {
   "cell_type": "markdown",
   "id": "4d165e51-6cc7-410a-b6e1-bbc845dede24",
   "metadata": {},
   "source": [
    "### Edit mode shortcuts\n",
    "- c - copy cell\n",
    "- v - paste cell\n",
    "- x - cut cell\n",
    "- m - convert cell to markdown\n",
    "- y - convert cell to code\n",
    "- a - insert cell above\n",
    "- b - insert cell below"
   ]
  },
  {
   "cell_type": "code",
   "execution_count": 3,
   "id": "7b6efe90-75ee-4e9c-adc3-a4a2c060fe32",
   "metadata": {},
   "outputs": [],
   "source": [
    "# cell A"
   ]
  },
  {
   "cell_type": "code",
   "execution_count": 4,
   "id": "22dd80af-84ad-473a-9e84-de9f5238742f",
   "metadata": {},
   "outputs": [],
   "source": [
    "# cell B"
   ]
  },
  {
   "cell_type": "markdown",
   "id": "ffbfb93c-a0cd-4dd8-a775-9713146f3280",
   "metadata": {},
   "source": [
    "### Additional tips\n",
    "- You can create a new view of the same notebook\n",
    "- Table of contexts plug in is really useful for jumping around the notebook"
   ]
  },
  {
   "cell_type": "markdown",
   "id": "df007542-2f52-4e8a-847b-dee6c37ed801",
   "metadata": {},
   "source": [
    "___"
   ]
  },
  {
   "cell_type": "markdown",
   "id": "888b8377-bb9f-4a3d-a183-b18d75463a9e",
   "metadata": {},
   "source": [
    "## Scenario: Basic hive and hadoop queries"
   ]
  },
  {
   "cell_type": "code",
   "execution_count": 5,
   "id": "a03b1df4-12ce-43f7-b2fe-d07688f224e4",
   "metadata": {},
   "outputs": [],
   "source": [
    "# triple quotes allow you to have multiple lines\n",
    "query = '''\n",
    "    select\n",
    "        -- indices\n",
    "        if(array_contains(test_group_set_php.mantis_id, 57256L),\n",
    "           'test', 'control') AS group_id,\n",
    "        ssm.ymd as ymd,\n",
    "        -- aggreates\n",
    "        count(*) as visits,\n",
    "        avg(ssm.pc_cos) as clickouts,\n",
    "        avg(ssm.clickout_rev) as revenue\n",
    "    from\n",
    "        trivago_analytic.session_stats_master as ssm\n",
    "    where\n",
    "        ssm.crawler_id = 0\n",
    "        and ssm.is_core\n",
    "        and (array_contains(tags, 'releasecontrol'))\n",
    "        -- ymd filter\n",
    "        and ymd between 20210621 and 20210705\n",
    "        -- traffic filter\n",
    "        and (array_contains(control_group_set_php.mantis_id, 57256L)\n",
    "             or array_contains(test_group_set_php.mantis_id, 57256L))\n",
    "        and ssm.session_date_id between 2021062118*1e9 and 2021070523999999999\n",
    "        and substr(cast(ssm.release_string as string), 1, 4) in ('9306', 'arp', '9307')\n",
    "    group by    \n",
    "        if(array_contains(test_group_set_php.mantis_id, 57256L),\n",
    "           'test', 'control'),\n",
    "        ssm.ymd\n",
    "'''\n",
    "df_sc = ht.query_hive(query)"
   ]
  },
  {
   "cell_type": "code",
   "execution_count": 6,
   "id": "4e660082-4876-416c-ae50-cbc5789de8eb",
   "metadata": {},
   "outputs": [
    {
     "data": {
      "text/html": [
       "<div>\n",
       "<style scoped>\n",
       "    .dataframe tbody tr th:only-of-type {\n",
       "        vertical-align: middle;\n",
       "    }\n",
       "\n",
       "    .dataframe tbody tr th {\n",
       "        vertical-align: top;\n",
       "    }\n",
       "\n",
       "    .dataframe thead th {\n",
       "        text-align: right;\n",
       "    }\n",
       "</style>\n",
       "<table border=\"1\" class=\"dataframe\">\n",
       "  <thead>\n",
       "    <tr style=\"text-align: right;\">\n",
       "      <th></th>\n",
       "      <th>group_id</th>\n",
       "      <th>ymd</th>\n",
       "      <th>visits</th>\n",
       "      <th>clickouts</th>\n",
       "      <th>revenue</th>\n",
       "    </tr>\n",
       "  </thead>\n",
       "  <tbody>\n",
       "    <tr>\n",
       "      <th>0</th>\n",
       "      <td>control</td>\n",
       "      <td>20210705</td>\n",
       "      <td>456892</td>\n",
       "      <td>0.534339</td>\n",
       "      <td>31.859464</td>\n",
       "    </tr>\n",
       "    <tr>\n",
       "      <th>1</th>\n",
       "      <td>control</td>\n",
       "      <td>20210626</td>\n",
       "      <td>1126983</td>\n",
       "      <td>0.592524</td>\n",
       "      <td>39.273687</td>\n",
       "    </tr>\n",
       "    <tr>\n",
       "      <th>2</th>\n",
       "      <td>control</td>\n",
       "      <td>20210627</td>\n",
       "      <td>1403879</td>\n",
       "      <td>0.630697</td>\n",
       "      <td>39.856624</td>\n",
       "    </tr>\n",
       "    <tr>\n",
       "      <th>3</th>\n",
       "      <td>test</td>\n",
       "      <td>20210623</td>\n",
       "      <td>1259677</td>\n",
       "      <td>0.581242</td>\n",
       "      <td>38.867968</td>\n",
       "    </tr>\n",
       "    <tr>\n",
       "      <th>4</th>\n",
       "      <td>control</td>\n",
       "      <td>20210625</td>\n",
       "      <td>1189522</td>\n",
       "      <td>0.567181</td>\n",
       "      <td>38.666562</td>\n",
       "    </tr>\n",
       "  </tbody>\n",
       "</table>\n",
       "</div>"
      ],
      "text/plain": [
       "  group_id       ymd   visits  clickouts    revenue\n",
       "0  control  20210705   456892   0.534339  31.859464\n",
       "1  control  20210626  1126983   0.592524  39.273687\n",
       "2  control  20210627  1403879   0.630697  39.856624\n",
       "3     test  20210623  1259677   0.581242  38.867968\n",
       "4  control  20210625  1189522   0.567181  38.666562"
      ]
     },
     "execution_count": 6,
     "metadata": {},
     "output_type": "execute_result"
    }
   ],
   "source": [
    "df_sc.head()"
   ]
  },
  {
   "cell_type": "code",
   "execution_count": 7,
   "id": "ff503263-1719-4414-91f8-561fe046b7bf",
   "metadata": {},
   "outputs": [],
   "source": [
    "# Pro-tip: Creating a pre-aggreated table in hive, then doing the final aggregation in \n",
    "#          impala usually speeds up \n",
    "query = '''\n",
    "drop table if exists gleyson.basic_sanity_check;\n",
    "create table gleyson.basic_sanity_check\n",
    "    stored as parquet as\n",
    "select\n",
    "    -- indices\n",
    "    if(array_contains(test_group_set_php.mantis_id, 57256L),\n",
    "       'test', 'control') AS group_id,\n",
    "    ssm.ymd as ymd,\n",
    "    -- aggreates\n",
    "    count(*) as visits,\n",
    "    avg(ssm.pc_cos) as clickouts,\n",
    "    avg(ssm.clickout_rev) as revenue\n",
    "from\n",
    "    trivago_analytic.session_stats_master as ssm\n",
    "where\n",
    "    ssm.crawler_id = 0\n",
    "    and ssm.is_core\n",
    "    and (array_contains(tags, 'releasecontrol'))\n",
    "    -- ymd filter\n",
    "    and ymd between 20210621 and 20210705\n",
    "    -- traffic filter\n",
    "    and (array_contains(control_group_set_php.mantis_id, 57256L)\n",
    "         or array_contains(test_group_set_php.mantis_id, 57256L))\n",
    "    and ssm.session_date_id between 2021062118*1e9 and 2021070523999999999\n",
    "    and substr(cast(ssm.release_string as string), 1, 4) in ('9306', 'arp', '9307')\n",
    "group by    \n",
    "    if(array_contains(test_group_set_php.mantis_id, 57256L),\n",
    "       'test', 'control'),\n",
    "    ssm.ymd\n",
    "'''\n",
    "ht.query_hive(query)"
   ]
  },
  {
   "cell_type": "code",
   "execution_count": 8,
   "id": "a1998289-eb0f-41bf-a0bc-89def991bce8",
   "metadata": {},
   "outputs": [],
   "source": [
    "query = '''\n",
    "invalidate metadata gleyson.basic_sanity_check;\n",
    "compute stats gleyson.basic_sanity_check\n",
    "'''\n",
    "ht.query_impala(query)"
   ]
  },
  {
   "cell_type": "code",
   "execution_count": 9,
   "id": "540cb34c-6142-48fe-bada-da6a864c4095",
   "metadata": {},
   "outputs": [
    {
     "name": "stdout",
     "output_type": "stream",
     "text": [
      "CPU times: user 14.9 ms, sys: 4.23 ms, total: 19.1 ms\n",
      "Wall time: 39.8 s\n"
     ]
    },
    {
     "data": {
      "text/html": [
       "<div>\n",
       "<style scoped>\n",
       "    .dataframe tbody tr th:only-of-type {\n",
       "        vertical-align: middle;\n",
       "    }\n",
       "\n",
       "    .dataframe tbody tr th {\n",
       "        vertical-align: top;\n",
       "    }\n",
       "\n",
       "    .dataframe thead th {\n",
       "        text-align: right;\n",
       "    }\n",
       "</style>\n",
       "<table border=\"1\" class=\"dataframe\">\n",
       "  <thead>\n",
       "    <tr style=\"text-align: right;\">\n",
       "      <th></th>\n",
       "      <th>group_id</th>\n",
       "      <th>total_visits</th>\n",
       "    </tr>\n",
       "  </thead>\n",
       "  <tbody>\n",
       "    <tr>\n",
       "      <th>0</th>\n",
       "      <td>control</td>\n",
       "      <td>18099818</td>\n",
       "    </tr>\n",
       "    <tr>\n",
       "      <th>1</th>\n",
       "      <td>test</td>\n",
       "      <td>18098460</td>\n",
       "    </tr>\n",
       "  </tbody>\n",
       "</table>\n",
       "</div>"
      ],
      "text/plain": [
       "  group_id  total_visits\n",
       "0  control      18099818\n",
       "1     test      18098460"
      ]
     },
     "execution_count": 9,
     "metadata": {},
     "output_type": "execute_result"
    }
   ],
   "source": [
    "%%time\n",
    "query = '''\n",
    "select group_id, sum(visits) as total_visits\n",
    "from gleyson.basic_sanity_check\n",
    "group by group_id\n",
    "'''\n",
    "ht.query_hive(query)"
   ]
  },
  {
   "cell_type": "code",
   "execution_count": 10,
   "id": "e2a4beb4-c796-4846-8cd8-0ede888df60b",
   "metadata": {},
   "outputs": [
    {
     "name": "stdout",
     "output_type": "stream",
     "text": [
      "CPU times: user 10.1 ms, sys: 2.99 ms, total: 13.1 ms\n",
      "Wall time: 543 ms\n"
     ]
    },
    {
     "data": {
      "text/html": [
       "<div>\n",
       "<style scoped>\n",
       "    .dataframe tbody tr th:only-of-type {\n",
       "        vertical-align: middle;\n",
       "    }\n",
       "\n",
       "    .dataframe tbody tr th {\n",
       "        vertical-align: top;\n",
       "    }\n",
       "\n",
       "    .dataframe thead th {\n",
       "        text-align: right;\n",
       "    }\n",
       "</style>\n",
       "<table border=\"1\" class=\"dataframe\">\n",
       "  <thead>\n",
       "    <tr style=\"text-align: right;\">\n",
       "      <th></th>\n",
       "      <th>group_id</th>\n",
       "      <th>total_visits</th>\n",
       "    </tr>\n",
       "  </thead>\n",
       "  <tbody>\n",
       "    <tr>\n",
       "      <th>0</th>\n",
       "      <td>test</td>\n",
       "      <td>18098460</td>\n",
       "    </tr>\n",
       "    <tr>\n",
       "      <th>1</th>\n",
       "      <td>control</td>\n",
       "      <td>18099818</td>\n",
       "    </tr>\n",
       "  </tbody>\n",
       "</table>\n",
       "</div>"
      ],
      "text/plain": [
       "  group_id  total_visits\n",
       "0     test      18098460\n",
       "1  control      18099818"
      ]
     },
     "execution_count": 10,
     "metadata": {},
     "output_type": "execute_result"
    }
   ],
   "source": [
    "%%time\n",
    "query = '''\n",
    "select group_id, sum(visits) as total_visits\n",
    "from gleyson.basic_sanity_check\n",
    "group by group_id\n",
    "'''\n",
    "ht.query_impala(query)"
   ]
  },
  {
   "cell_type": "markdown",
   "id": "ef351cff-c4b2-4aeb-b403-d4f4eabbabd6",
   "metadata": {},
   "source": [
    "___"
   ]
  },
  {
   "cell_type": "markdown",
   "id": "f4a1cbf8-9108-4b18-911f-03df724fe9b1",
   "metadata": {},
   "source": [
    "## Scenario: Plotting revenue vs. ymd"
   ]
  },
  {
   "cell_type": "code",
   "execution_count": 11,
   "id": "418750c4-95f9-4be5-89f4-b2bc62a7bbba",
   "metadata": {},
   "outputs": [],
   "source": [
    "# load dataset\n",
    "df = df_sc"
   ]
  },
  {
   "cell_type": "code",
   "execution_count": 12,
   "id": "9c11d591-563f-4bb2-a6fa-9d053541f590",
   "metadata": {},
   "outputs": [
    {
     "data": {
      "text/html": [
       "<div>\n",
       "<style scoped>\n",
       "    .dataframe tbody tr th:only-of-type {\n",
       "        vertical-align: middle;\n",
       "    }\n",
       "\n",
       "    .dataframe tbody tr th {\n",
       "        vertical-align: top;\n",
       "    }\n",
       "\n",
       "    .dataframe thead th {\n",
       "        text-align: right;\n",
       "    }\n",
       "</style>\n",
       "<table border=\"1\" class=\"dataframe\">\n",
       "  <thead>\n",
       "    <tr style=\"text-align: right;\">\n",
       "      <th></th>\n",
       "      <th>group_id</th>\n",
       "      <th>ymd</th>\n",
       "      <th>visits</th>\n",
       "      <th>clickouts</th>\n",
       "      <th>revenue</th>\n",
       "    </tr>\n",
       "  </thead>\n",
       "  <tbody>\n",
       "    <tr>\n",
       "      <th>0</th>\n",
       "      <td>control</td>\n",
       "      <td>20210705</td>\n",
       "      <td>456892</td>\n",
       "      <td>0.534339</td>\n",
       "      <td>31.859464</td>\n",
       "    </tr>\n",
       "    <tr>\n",
       "      <th>1</th>\n",
       "      <td>control</td>\n",
       "      <td>20210626</td>\n",
       "      <td>1126983</td>\n",
       "      <td>0.592524</td>\n",
       "      <td>39.273687</td>\n",
       "    </tr>\n",
       "    <tr>\n",
       "      <th>2</th>\n",
       "      <td>control</td>\n",
       "      <td>20210627</td>\n",
       "      <td>1403879</td>\n",
       "      <td>0.630697</td>\n",
       "      <td>39.856624</td>\n",
       "    </tr>\n",
       "    <tr>\n",
       "      <th>3</th>\n",
       "      <td>test</td>\n",
       "      <td>20210623</td>\n",
       "      <td>1259677</td>\n",
       "      <td>0.581242</td>\n",
       "      <td>38.867968</td>\n",
       "    </tr>\n",
       "    <tr>\n",
       "      <th>4</th>\n",
       "      <td>control</td>\n",
       "      <td>20210625</td>\n",
       "      <td>1189522</td>\n",
       "      <td>0.567181</td>\n",
       "      <td>38.666562</td>\n",
       "    </tr>\n",
       "  </tbody>\n",
       "</table>\n",
       "</div>"
      ],
      "text/plain": [
       "  group_id       ymd   visits  clickouts    revenue\n",
       "0  control  20210705   456892   0.534339  31.859464\n",
       "1  control  20210626  1126983   0.592524  39.273687\n",
       "2  control  20210627  1403879   0.630697  39.856624\n",
       "3     test  20210623  1259677   0.581242  38.867968\n",
       "4  control  20210625  1189522   0.567181  38.666562"
      ]
     },
     "execution_count": 12,
     "metadata": {},
     "output_type": "execute_result"
    }
   ],
   "source": [
    "# peek at dataset head\n",
    "df.head()"
   ]
  },
  {
   "cell_type": "code",
   "execution_count": 13,
   "id": "45c31999-296d-4f25-b44d-8552bc0d3ca5",
   "metadata": {},
   "outputs": [
    {
     "data": {
      "text/plain": [
       "<matplotlib.axes._subplots.AxesSubplot at 0x7ff6c78a89d0>"
      ]
     },
     "execution_count": 13,
     "metadata": {},
     "output_type": "execute_result"
    },
    {
     "data": {
      "image/png": "[encoded data removed]",
      "text/plain": [
       "<Figure size 432x288 with 1 Axes>"
      ]
     },
     "metadata": {
      "needs_background": "light"
     },
     "output_type": "display_data"
    }
   ],
   "source": [
    "# basic plot\n",
    "indices = ['ymd', 'group_id']\n",
    "metric = 'revenue'\n",
    "\n",
    "dfb = df.set_index(indices).sort_index()\n",
    "dfb[metric].plot()"
   ]
  },
  {
   "cell_type": "code",
   "execution_count": 14,
   "id": "09863f73-8dfa-4a56-94af-75587a302383",
   "metadata": {},
   "outputs": [
    {
     "data": {
      "text/html": [
       "<div>\n",
       "<style scoped>\n",
       "    .dataframe tbody tr th:only-of-type {\n",
       "        vertical-align: middle;\n",
       "    }\n",
       "\n",
       "    .dataframe tbody tr th {\n",
       "        vertical-align: top;\n",
       "    }\n",
       "\n",
       "    .dataframe thead th {\n",
       "        text-align: right;\n",
       "    }\n",
       "</style>\n",
       "<table border=\"1\" class=\"dataframe\">\n",
       "  <thead>\n",
       "    <tr style=\"text-align: right;\">\n",
       "      <th></th>\n",
       "      <th>group_id</th>\n",
       "      <th>ymd</th>\n",
       "      <th>visits</th>\n",
       "      <th>clickouts</th>\n",
       "      <th>revenue</th>\n",
       "    </tr>\n",
       "  </thead>\n",
       "  <tbody>\n",
       "    <tr>\n",
       "      <th>0</th>\n",
       "      <td>control</td>\n",
       "      <td>2021-07-05</td>\n",
       "      <td>456892</td>\n",
       "      <td>0.534339</td>\n",
       "      <td>31.859464</td>\n",
       "    </tr>\n",
       "    <tr>\n",
       "      <th>1</th>\n",
       "      <td>control</td>\n",
       "      <td>2021-06-26</td>\n",
       "      <td>1126983</td>\n",
       "      <td>0.592524</td>\n",
       "      <td>39.273687</td>\n",
       "    </tr>\n",
       "    <tr>\n",
       "      <th>2</th>\n",
       "      <td>control</td>\n",
       "      <td>2021-06-27</td>\n",
       "      <td>1403879</td>\n",
       "      <td>0.630697</td>\n",
       "      <td>39.856624</td>\n",
       "    </tr>\n",
       "    <tr>\n",
       "      <th>3</th>\n",
       "      <td>test</td>\n",
       "      <td>2021-06-23</td>\n",
       "      <td>1259677</td>\n",
       "      <td>0.581242</td>\n",
       "      <td>38.867968</td>\n",
       "    </tr>\n",
       "    <tr>\n",
       "      <th>4</th>\n",
       "      <td>control</td>\n",
       "      <td>2021-06-25</td>\n",
       "      <td>1189522</td>\n",
       "      <td>0.567181</td>\n",
       "      <td>38.666562</td>\n",
       "    </tr>\n",
       "  </tbody>\n",
       "</table>\n",
       "</div>"
      ],
      "text/plain": [
       "  group_id        ymd   visits  clickouts    revenue\n",
       "0  control 2021-07-05   456892   0.534339  31.859464\n",
       "1  control 2021-06-26  1126983   0.592524  39.273687\n",
       "2  control 2021-06-27  1403879   0.630697  39.856624\n",
       "3     test 2021-06-23  1259677   0.581242  38.867968\n",
       "4  control 2021-06-25  1189522   0.567181  38.666562"
      ]
     },
     "execution_count": 14,
     "metadata": {},
     "output_type": "execute_result"
    }
   ],
   "source": [
    "# format ymd column\n",
    "df.ymd = pd.to_datetime(df.ymd, format='%Y%m%d')\n",
    "df.head()"
   ]
  },
  {
   "cell_type": "code",
   "execution_count": 15,
   "id": "ba861ff8-6ead-4569-9e2a-2a9f8dc30bb5",
   "metadata": {},
   "outputs": [
    {
     "data": {
      "text/html": [
       "<div>\n",
       "<style scoped>\n",
       "    .dataframe tbody tr th:only-of-type {\n",
       "        vertical-align: middle;\n",
       "    }\n",
       "\n",
       "    .dataframe tbody tr th {\n",
       "        vertical-align: top;\n",
       "    }\n",
       "\n",
       "    .dataframe thead th {\n",
       "        text-align: right;\n",
       "    }\n",
       "</style>\n",
       "<table border=\"1\" class=\"dataframe\">\n",
       "  <thead>\n",
       "    <tr style=\"text-align: right;\">\n",
       "      <th></th>\n",
       "      <th></th>\n",
       "      <th>visits</th>\n",
       "      <th>clickouts</th>\n",
       "      <th>revenue</th>\n",
       "    </tr>\n",
       "    <tr>\n",
       "      <th>ymd</th>\n",
       "      <th>group_id</th>\n",
       "      <th></th>\n",
       "      <th></th>\n",
       "      <th></th>\n",
       "    </tr>\n",
       "  </thead>\n",
       "  <tbody>\n",
       "    <tr>\n",
       "      <th rowspan=\"2\" valign=\"top\">2021-06-21</th>\n",
       "      <th>control</th>\n",
       "      <td>438404</td>\n",
       "      <td>0.612141</td>\n",
       "      <td>40.753583</td>\n",
       "    </tr>\n",
       "    <tr>\n",
       "      <th>test</th>\n",
       "      <td>438378</td>\n",
       "      <td>0.610001</td>\n",
       "      <td>40.673763</td>\n",
       "    </tr>\n",
       "    <tr>\n",
       "      <th rowspan=\"2\" valign=\"top\">2021-06-22</th>\n",
       "      <th>control</th>\n",
       "      <td>1340993</td>\n",
       "      <td>0.573092</td>\n",
       "      <td>37.865916</td>\n",
       "    </tr>\n",
       "    <tr>\n",
       "      <th>test</th>\n",
       "      <td>1345228</td>\n",
       "      <td>0.573738</td>\n",
       "      <td>38.004421</td>\n",
       "    </tr>\n",
       "    <tr>\n",
       "      <th>2021-06-23</th>\n",
       "      <th>control</th>\n",
       "      <td>1258548</td>\n",
       "      <td>0.583401</td>\n",
       "      <td>39.015757</td>\n",
       "    </tr>\n",
       "  </tbody>\n",
       "</table>\n",
       "</div>"
      ],
      "text/plain": [
       "                      visits  clickouts    revenue\n",
       "ymd        group_id                               \n",
       "2021-06-21 control    438404   0.612141  40.753583\n",
       "           test       438378   0.610001  40.673763\n",
       "2021-06-22 control   1340993   0.573092  37.865916\n",
       "           test      1345228   0.573738  38.004421\n",
       "2021-06-23 control   1258548   0.583401  39.015757"
      ]
     },
     "execution_count": 15,
     "metadata": {},
     "output_type": "execute_result"
    }
   ],
   "source": [
    "# unstack group id\n",
    "indices = ['ymd', 'group_id']\n",
    "metric = 'revenue'\n",
    "dfb = df.set_index(indices).sort_index()\n",
    "dfb.head()"
   ]
  },
  {
   "cell_type": "code",
   "execution_count": 61,
   "id": "22d4d936-044c-4a27-a042-918973405c63",
   "metadata": {},
   "outputs": [
    {
     "data": {
      "text/html": [
       "<div>\n",
       "<style scoped>\n",
       "    .dataframe tbody tr th:only-of-type {\n",
       "        vertical-align: middle;\n",
       "    }\n",
       "\n",
       "    .dataframe tbody tr th {\n",
       "        vertical-align: top;\n",
       "    }\n",
       "\n",
       "    .dataframe thead th {\n",
       "        text-align: right;\n",
       "    }\n",
       "</style>\n",
       "<table border=\"1\" class=\"dataframe\">\n",
       "  <thead>\n",
       "    <tr style=\"text-align: right;\">\n",
       "      <th>group_id</th>\n",
       "      <th>control</th>\n",
       "      <th>test</th>\n",
       "    </tr>\n",
       "    <tr>\n",
       "      <th>ymd</th>\n",
       "      <th></th>\n",
       "      <th></th>\n",
       "    </tr>\n",
       "  </thead>\n",
       "  <tbody>\n",
       "    <tr>\n",
       "      <th>2021-06-21</th>\n",
       "      <td>40.753583</td>\n",
       "      <td>40.673763</td>\n",
       "    </tr>\n",
       "    <tr>\n",
       "      <th>2021-06-22</th>\n",
       "      <td>37.865916</td>\n",
       "      <td>38.004421</td>\n",
       "    </tr>\n",
       "    <tr>\n",
       "      <th>2021-06-23</th>\n",
       "      <td>39.015757</td>\n",
       "      <td>38.867968</td>\n",
       "    </tr>\n",
       "  </tbody>\n",
       "</table>\n",
       "</div>"
      ],
      "text/plain": [
       "group_id      control       test\n",
       "ymd                             \n",
       "2021-06-21  40.753583  40.673763\n",
       "2021-06-22  37.865916  38.004421\n",
       "2021-06-23  39.015757  38.867968"
      ]
     },
     "execution_count": 61,
     "metadata": {},
     "output_type": "execute_result"
    }
   ],
   "source": [
    "dfb[metric].unstack('group_id').head(3)"
   ]
  },
  {
   "cell_type": "code",
   "execution_count": 58,
   "id": "4df2037a-5cce-4d77-9123-229f71d4ded1",
   "metadata": {},
   "outputs": [
    {
     "data": {
      "text/plain": [
       "[Text(0, 0.5, 'revenue')]"
      ]
     },
     "execution_count": 58,
     "metadata": {},
     "output_type": "execute_result"
    },
    {
     "data": {
      "image/png": "[encoded data removed]",
      "text/plain": [
       "<Figure size 432x288 with 1 Axes>"
      ]
     },
     "metadata": {
      "needs_background": "light"
     },
     "output_type": "display_data"
    }
   ],
   "source": [
    "# basic (non-ugly) plot for revenue vs. time\n",
    "plot_kws = dict(style='o-', mfc='w')\n",
    "ax = dfb[metric].unstack('group_id').plot(**plot_kws)\n",
    "ax.set(ylabel=metric)"
   ]
  },
  {
   "cell_type": "code",
   "execution_count": 63,
   "id": "718d4ba8-70a3-49f9-89f1-39d9bff4c7db",
   "metadata": {},
   "outputs": [
    {
     "data": {
      "image/png": "[encoded data removed]",
      "text/plain": [
       "<Figure size 432x432 with 3 Axes>"
      ]
     },
     "metadata": {
      "needs_background": "light"
     },
     "output_type": "display_data"
    }
   ],
   "source": [
    "fig, axs = plt.subplots(3, 1, figsize=(6, 6), sharex=True)\n",
    "\n",
    "metrics = ['visits', 'revenue', 'clickouts']\n",
    "for ax, metric in zip(axs, metrics):\n",
    "    ax = dfb[metric].unstack('group_id').plot(**plot_kws, ax=ax)\n",
    "    ax.set(ylabel=metric, xlabel='')"
   ]
  },
  {
   "cell_type": "code",
   "execution_count": 113,
   "id": "3c6a2fb2-105f-4611-9df0-d104793558a0",
   "metadata": {},
   "outputs": [
    {
     "data": {
      "text/plain": [
       "[Text(0, 0.5, 'clickouts'), Text(0.5, 0, '')]"
      ]
     },
     "execution_count": 113,
     "metadata": {},
     "output_type": "execute_result"
    },
    {
     "data": {
      "image/png": "[encoded data removed]",
      "text/plain": [
       "<Figure size 432x288 with 1 Axes>"
      ]
     },
     "metadata": {
      "needs_background": "light"
     },
     "output_type": "display_data"
    }
   ],
   "source": [
    "# Interactive plot\n",
    "from ipywidgets import interact\n",
    "\n",
    "fig, ax = plt.subplots(1, 1, figsize=(6, 4))\n",
    "\n",
    "ax = dfb[metric].unstack('group_id').plot(**plot_kws, ax=ax)\n",
    "ax.set(ylabel=metric, xlabel='')\n",
    "    "
   ]
  },
  {
   "cell_type": "markdown",
   "id": "bd63541f-33c5-4a95-b546-7ba4bcd4ea30",
   "metadata": {},
   "source": [
    "## Scenario - Basic exploratory analysis\n",
    "\n",
    "- **Context**: Expect `relevance_score` to be equal to `(logged_ctr * priority * 1e3)`\n",
    "- **Observation**: Sometimes this is not the case\n",
    "- **Questions**\n",
    "    - How frequent?\n",
    "    - What causes the discrepancy?"
   ]
  },
  {
   "cell_type": "code",
   "execution_count": 16,
   "id": "d8fefd4c-6c78-4689-8c12-b5f34cd3d62d",
   "metadata": {
    "tags": []
   },
   "outputs": [],
   "source": [
    "query = '''\n",
    "with cte as (\n",
    "    select \n",
    "        relevance_score / (logged_ctr * priority * 1e3) as ratio\n",
    "    from \n",
    "        anair.cpc_analysis_base_data\n",
    "    where \n",
    "        first_hotel_sort_order = 'RELEVANCE'\n",
    "        and second_hotel_sort_order is null\n",
    "        and search_type = 'other'\n",
    "        and is_beta = 'Not Beta'\n",
    ")\n",
    "\n",
    "select\n",
    "    round(ratio, 2) as relratio,\n",
    "    count(*) as instances\n",
    "from cte\n",
    "group by relratio\n",
    "'''\n",
    "df = ht.query_impala(query)"
   ]
  },
  {
   "cell_type": "code",
   "execution_count": 17,
   "id": "7d48c790-73a5-4c05-a649-3a359340d545",
   "metadata": {},
   "outputs": [],
   "source": [
    "df['frac'] = df.instances / df.instances.sum()"
   ]
  },
  {
   "cell_type": "code",
   "execution_count": 18,
   "id": "7f029aec-04a0-4c5d-bd74-12ac63269222",
   "metadata": {},
   "outputs": [
    {
     "data": {
      "text/html": [
       "<div>\n",
       "<style scoped>\n",
       "    .dataframe tbody tr th:only-of-type {\n",
       "        vertical-align: middle;\n",
       "    }\n",
       "\n",
       "    .dataframe tbody tr th {\n",
       "        vertical-align: top;\n",
       "    }\n",
       "\n",
       "    .dataframe thead th {\n",
       "        text-align: right;\n",
       "    }\n",
       "</style>\n",
       "<table border=\"1\" class=\"dataframe\">\n",
       "  <thead>\n",
       "    <tr style=\"text-align: right;\">\n",
       "      <th></th>\n",
       "      <th>relratio</th>\n",
       "      <th>instances</th>\n",
       "      <th>frac</th>\n",
       "    </tr>\n",
       "  </thead>\n",
       "  <tbody>\n",
       "    <tr>\n",
       "      <th>0</th>\n",
       "      <td>5.08</td>\n",
       "      <td>15</td>\n",
       "      <td>7.221018e-07</td>\n",
       "    </tr>\n",
       "    <tr>\n",
       "      <th>1</th>\n",
       "      <td>17.61</td>\n",
       "      <td>2</td>\n",
       "      <td>9.628024e-08</td>\n",
       "    </tr>\n",
       "    <tr>\n",
       "      <th>2</th>\n",
       "      <td>0.73</td>\n",
       "      <td>2112</td>\n",
       "      <td>1.016719e-04</td>\n",
       "    </tr>\n",
       "  </tbody>\n",
       "</table>\n",
       "</div>"
      ],
      "text/plain": [
       "   relratio  instances          frac\n",
       "0      5.08         15  7.221018e-07\n",
       "1     17.61          2  9.628024e-08\n",
       "2      0.73       2112  1.016719e-04"
      ]
     },
     "execution_count": 18,
     "metadata": {},
     "output_type": "execute_result"
    }
   ],
   "source": [
    "df.head(3)"
   ]
  },
  {
   "cell_type": "code",
   "execution_count": 19,
   "id": "dc9f1138-9700-4d7c-ae01-b7961be22947",
   "metadata": {},
   "outputs": [
    {
     "data": {
      "text/plain": [
       "[Text(0, 0.5, 'fraction')]"
      ]
     },
     "execution_count": 19,
     "metadata": {},
     "output_type": "execute_result"
    },
    {
     "data": {
      "image/png": "[encoded data removed]",
      "text/plain": [
       "<Figure size 432x288 with 1 Axes>"
      ]
     },
     "metadata": {
      "needs_background": "light"
     },
     "output_type": "display_data"
    }
   ],
   "source": [
    "ax = df.set_index('relratio').sort_index().frac.plot(style='k-')\n",
    "ax.set(xlim=[0, 3],\n",
    "#        yscale='log'\n",
    "      )\n",
    "\n",
    "axline_kws = dict(color='r', linewidth=1)\n",
    "ax.axvline(1, **axline_kws)\n",
    "ax.axvline(0.1, **axline_kws)\n",
    "ax.set(ylabel='fraction')"
   ]
  },
  {
   "cell_type": "markdown",
   "id": "c7098f6c-bc0d-43e9-9238-927e2200acd2",
   "metadata": {},
   "source": [
    "TODO: create cumulative plot"
   ]
  },
  {
   "cell_type": "code",
   "execution_count": 20,
   "id": "e2d7cddf-d5c7-4e46-ae9b-e1f9fc5d8ad8",
   "metadata": {},
   "outputs": [
    {
     "name": "stdout",
     "output_type": "stream",
     "text": [
      "CPU times: user 149 ms, sys: 18.5 ms, total: 168 ms\n",
      "Wall time: 13.6 s\n"
     ]
    }
   ],
   "source": [
    "%%time\n",
    "query = '''\n",
    "with cte as (\n",
    "    select \n",
    "        ymd,\n",
    "        relevance_score / (logged_ctr * priority * 1e3) as ratio\n",
    "    from anair.cpc_analysis_base_data\n",
    "    where first_hotel_sort_order = 'RELEVANCE'\n",
    "        and second_hotel_sort_order is null\n",
    "        and search_type = 'other'\n",
    "        and is_beta = 'Not Beta'\n",
    ")\n",
    "\n",
    "select\n",
    "    ymd,\n",
    "    round(ratio, 2) as relratio,\n",
    "    count(*) as instances\n",
    "from cte\n",
    "group by ymd, relratio\n",
    "'''\n",
    "df = ht.query_impala(query)"
   ]
  },
  {
   "cell_type": "code",
   "execution_count": 21,
   "id": "c74e1adf-8e2a-45ac-9bda-0d288453f6f0",
   "metadata": {
    "jupyter": {
     "source_hidden": true
    },
    "tags": []
   },
   "outputs": [
    {
     "name": "stdout",
     "output_type": "stream",
     "text": [
      "CPU times: user 109 ms, sys: 9.79 ms, total: 119 ms\n",
      "Wall time: 1min 47s\n"
     ]
    }
   ],
   "source": [
    "%%time\n",
    "query = '''\n",
    "with cte as (\n",
    "    select \n",
    "        ymd,\n",
    "        relevance_score / (logged_ctr * priority * 1e3) as ratio\n",
    "    from anair.cpc_analysis_base_data\n",
    "    where first_hotel_sort_order = 'RELEVANCE'\n",
    "        and second_hotel_sort_order is null\n",
    "        and search_type = 'other'\n",
    "        and is_beta = 'Not Beta'\n",
    ")\n",
    "\n",
    "select\n",
    "    ymd,\n",
    "    round(ratio, 2) as relratio,\n",
    "    count(*) as instances\n",
    "from cte\n",
    "group by ymd, round(ratio, 2)\n",
    "'''\n",
    "df = ht.query_hive(query)"
   ]
  },
  {
   "cell_type": "code",
   "execution_count": 22,
   "id": "0ce072a4-8697-4e5f-a9ae-de8a37bc9ff8",
   "metadata": {},
   "outputs": [],
   "source": [
    "# compute fraction of instances\n",
    "df['frac'] = df.instances / df.instances.sum()\n",
    "\n",
    "# convert ymd column to datetime\n",
    "df.ymd = pd.to_datetime(df.ymd, format='%Y%m%d')"
   ]
  },
  {
   "cell_type": "code",
   "execution_count": 23,
   "id": "6c2f758f-724c-4c63-bbfe-5ed48f1e86b2",
   "metadata": {},
   "outputs": [],
   "source": [
    "# compute total instances within ymd \n",
    "df = df.assign(total_instances=df.groupby('ymd')\n",
    "               .instances.transform('sum'))\n",
    "# compute fraction of instances within ymd\n",
    "df['frac'] = df.instances / df.total_instances\n",
    "# drop total intances column (optional)\n",
    "df.drop('total_instances', axis=1, inplace=True)"
   ]
  },
  {
   "cell_type": "markdown",
   "id": "43492301-61f8-4ea8-9615-7e63c3cce3a9",
   "metadata": {},
   "source": [
    "Equivalent to\n",
    "```sql\n",
    "select\n",
    "    sum(instances) over (partition by ymd) as total_instances\n",
    "from\n",
    "    ...\n",
    "```"
   ]
  },
  {
   "cell_type": "code",
   "execution_count": 24,
   "id": "82736365-6382-4137-a4b3-0e5cd75b8ec2",
   "metadata": {},
   "outputs": [
    {
     "data": {
      "text/html": [
       "<div>\n",
       "<style scoped>\n",
       "    .dataframe tbody tr th:only-of-type {\n",
       "        vertical-align: middle;\n",
       "    }\n",
       "\n",
       "    .dataframe tbody tr th {\n",
       "        vertical-align: top;\n",
       "    }\n",
       "\n",
       "    .dataframe thead th {\n",
       "        text-align: right;\n",
       "    }\n",
       "</style>\n",
       "<table border=\"1\" class=\"dataframe\">\n",
       "  <thead>\n",
       "    <tr style=\"text-align: right;\">\n",
       "      <th></th>\n",
       "      <th>ymd</th>\n",
       "      <th>relratio</th>\n",
       "      <th>instances</th>\n",
       "      <th>frac</th>\n",
       "    </tr>\n",
       "  </thead>\n",
       "  <tbody>\n",
       "    <tr>\n",
       "      <th>0</th>\n",
       "      <td>2021-04-04</td>\n",
       "      <td>0.23</td>\n",
       "      <td>290</td>\n",
       "      <td>0.000089</td>\n",
       "    </tr>\n",
       "    <tr>\n",
       "      <th>1</th>\n",
       "      <td>2021-04-04</td>\n",
       "      <td>0.26</td>\n",
       "      <td>293</td>\n",
       "      <td>0.000089</td>\n",
       "    </tr>\n",
       "    <tr>\n",
       "      <th>2</th>\n",
       "      <td>2021-04-04</td>\n",
       "      <td>0.71</td>\n",
       "      <td>580</td>\n",
       "      <td>0.000177</td>\n",
       "    </tr>\n",
       "  </tbody>\n",
       "</table>\n",
       "</div>"
      ],
      "text/plain": [
       "         ymd  relratio  instances      frac\n",
       "0 2021-04-04      0.23        290  0.000089\n",
       "1 2021-04-04      0.26        293  0.000089\n",
       "2 2021-04-04      0.71        580  0.000177"
      ]
     },
     "execution_count": 24,
     "metadata": {},
     "output_type": "execute_result"
    }
   ],
   "source": [
    "df.head(3)"
   ]
  },
  {
   "cell_type": "code",
   "execution_count": 25,
   "id": "23b61134-b731-4a29-a13f-b886e913a745",
   "metadata": {},
   "outputs": [
    {
     "data": {
      "text/plain": [
       "<matplotlib.lines.Line2D at 0x7ff6c82498d0>"
      ]
     },
     "execution_count": 25,
     "metadata": {},
     "output_type": "execute_result"
    },
    {
     "data": {
      "image/png": "[encoded data removed]",
      "text/plain": [
       "<Figure size 432x288 with 1 Axes>"
      ]
     },
     "metadata": {
      "needs_background": "light"
     },
     "output_type": "display_data"
    }
   ],
   "source": [
    "fig, ax = plt.subplots(1,1,figsize=(6,4))\n",
    "df[df.ymd >= '2021-04-07'].set_index(['relratio', 'ymd']).sort_index().frac.unstack('ymd').plot(ax=ax)\n",
    "ax.set(xlim=[0, 5], \n",
    "       yscale='log'\n",
    "      )\n",
    "ax.axvline(1, **axline_kws)\n",
    "ax.axvline(0.1, **axline_kws)"
   ]
  },
  {
   "cell_type": "code",
   "execution_count": 26,
   "id": "cac2f8cb-3850-4c9e-ae43-27a585de37b3",
   "metadata": {},
   "outputs": [
    {
     "data": {
      "text/plain": [
       "<matplotlib.lines.Line2D at 0x7ff6c7677390>"
      ]
     },
     "execution_count": 26,
     "metadata": {},
     "output_type": "execute_result"
    },
    {
     "data": {
      "image/png": "[encoded data removed]",
      "text/plain": [
       "<Figure size 432x288 with 1 Axes>"
      ]
     },
     "metadata": {
      "needs_background": "light"
     },
     "output_type": "display_data"
    }
   ],
   "source": [
    "mask = df.ymd >= '2021-04-06'\n",
    "fig, ax = plt.subplots(1,1,figsize=(6,4))\n",
    "df[mask].set_index(['relratio', 'ymd']).sort_index().frac.unstack('ymd').cumsum().plot(ax=ax)\n",
    "ax.set(xlim=[0, 3], \n",
    "#        yscale='log'\n",
    "      )\n",
    "ax.axvline(0.1, linestyle='--', color='r', linewidth=0.5)\n",
    "ax.axvline(1, linestyle='--', color='r', linewidth=0.5)"
   ]
  },
  {
   "cell_type": "markdown",
   "id": "dd367618-37b5-4fba-8919-9be8e66a0729",
   "metadata": {},
   "source": [
    "## Scenario: Adding variables to queries\n",
    "topics: string replacement\n",
    "\n"
   ]
  },
  {
   "cell_type": "code",
   "execution_count": 27,
   "id": "bd98eaf4-add8-41bf-aaba-650eb65af8ad",
   "metadata": {},
   "outputs": [],
   "source": [
    "db = 'gleyson'\n",
    "table_name = 'basic_sanity_check'"
   ]
  },
  {
   "cell_type": "markdown",
   "id": "a114148d-a738-48d5-9458-80557207f3ec",
   "metadata": {},
   "source": [
    "### Option 1: Literal string interpolation\n",
    "When the prefix 'f' is added in front of the string, expressions in braces '{...}' are replaced by their values."
   ]
  },
  {
   "cell_type": "code",
   "execution_count": 28,
   "id": "cb2f8458-2dac-4da4-a829-34e2e75ab5ef",
   "metadata": {},
   "outputs": [
    {
     "name": "stdout",
     "output_type": "stream",
     "text": [
      "\n",
      "create gleyson.basic_sanity_check\n",
      "    stored as parquet as \n",
      "select\n",
      "    -- indices\n",
      "    if(array_contains(test_group_set_php.mantis_id, 57256L),\n",
      "       'test', 'control') AS group_id,\n",
      "    ssm.ymd as ymd,\n",
      "    -- aggreates\n",
      "    count(*) as visits,\n",
      "    avg(ssm.pc_cos) as clickouts,\n",
      "    avg(ssm.clickout_rev) as revenue\n",
      "from\n",
      "    trivago_analytic.session_stats_master as ssm\n",
      "where\n",
      "    ssm.crawler_id = 0\n",
      "    and ssm.is_core\n",
      "    and (array_contains(tags, 'releasecontrol'))\n",
      "    -- ymd filter\n",
      "    and ymd between 20210621 and 20210705\n",
      "    -- traffic filter\n",
      "    and (array_contains(control_group_set_php.mantis_id, 57256L)\n",
      "         or array_contains(test_group_set_php.mantis_id, 57256L))\n",
      "    and ssm.session_date_id between 2021062118*1e9 and 2021070523999999999\n",
      "    and substr(cast(ssm.release_string as string), 1, 4) in ('9306', 'arp', '9307')\n",
      "group by    \n",
      "    if(array_contains(test_group_set_php.mantis_id, 57256L),\n",
      "       'test', 'control'),\n",
      "    ssm.ymd\n",
      "\n"
     ]
    }
   ],
   "source": [
    "query = f'''\n",
    "create {db}.{table_name}\n",
    "    stored as parquet as \n",
    "select\n",
    "    -- indices\n",
    "    if(array_contains(test_group_set_php.mantis_id, 57256L),\n",
    "       'test', 'control') AS group_id,\n",
    "    ssm.ymd as ymd,\n",
    "    -- aggreates\n",
    "    count(*) as visits,\n",
    "    avg(ssm.pc_cos) as clickouts,\n",
    "    avg(ssm.clickout_rev) as revenue\n",
    "from\n",
    "    trivago_analytic.session_stats_master as ssm\n",
    "where\n",
    "    ssm.crawler_id = 0\n",
    "    and ssm.is_core\n",
    "    and (array_contains(tags, 'releasecontrol'))\n",
    "    -- ymd filter\n",
    "    and ymd between 20210621 and 20210705\n",
    "    -- traffic filter\n",
    "    and (array_contains(control_group_set_php.mantis_id, 57256L)\n",
    "         or array_contains(test_group_set_php.mantis_id, 57256L))\n",
    "    and ssm.session_date_id between 2021062118*1e9 and 2021070523999999999\n",
    "    and substr(cast(ssm.release_string as string), 1, 4) in ('9306', 'arp', '9307')\n",
    "group by    \n",
    "    if(array_contains(test_group_set_php.mantis_id, 57256L),\n",
    "       'test', 'control'),\n",
    "    ssm.ymd\n",
    "'''\n",
    "print(query)"
   ]
  },
  {
   "cell_type": "markdown",
   "id": "87ec4393-5f11-46d1-bfcb-d84eb43ca025",
   "metadata": {},
   "source": [
    "### Option 2: format method\n",
    "The `format()` method formats the specified value(s) and insert them inside the string's placeholder."
   ]
  },
  {
   "cell_type": "code",
   "execution_count": 29,
   "id": "f77f69eb-ef7b-4aa0-a05e-e03878cab1d4",
   "metadata": {},
   "outputs": [
    {
     "name": "stdout",
     "output_type": "stream",
     "text": [
      "\n",
      "create gleyson.basic_sanity_check\n",
      "    stored as parquet as \n",
      "select\n",
      "    -- indices\n",
      "    if(array_contains(test_group_set_php.mantis_id, 57256L),\n",
      "       'test', 'control') AS group_id,\n",
      "    ssm.ymd as ymd,\n",
      "    -- aggreates\n",
      "    count(*) as visits,\n",
      "    avg(ssm.pc_cos) as clickouts,\n",
      "    avg(ssm.clickout_rev) as revenue\n",
      "from\n",
      "    trivago_analytic.session_stats_master as ssm\n",
      "where\n",
      "    ssm.crawler_id = 0\n",
      "    and ssm.is_core\n",
      "    and (array_contains(tags, 'releasecontrol'))\n",
      "    -- ymd filter\n",
      "    and ymd between 20210621 and 20210705\n",
      "    -- traffic filter\n",
      "    and (array_contains(control_group_set_php.mantis_id, 57256L)\n",
      "         or array_contains(test_group_set_php.mantis_id, 57256L))\n",
      "    and ssm.session_date_id between 2021062118*1e9 and 2021070523999999999\n",
      "    and substr(cast(ssm.release_string as string), 1, 4) in ('9306', 'arp', '9307')\n",
      "group by    \n",
      "    if(array_contains(test_group_set_php.mantis_id, 57256L),\n",
      "       'test', 'control'),\n",
      "    ssm.ymd\n",
      "\n"
     ]
    }
   ],
   "source": [
    "query = '''\n",
    "create {db}.{table_name}\n",
    "    stored as parquet as \n",
    "select\n",
    "    -- indices\n",
    "    if(array_contains(test_group_set_php.mantis_id, 57256L),\n",
    "       'test', 'control') AS group_id,\n",
    "    ssm.ymd as ymd,\n",
    "    -- aggreates\n",
    "    count(*) as visits,\n",
    "    avg(ssm.pc_cos) as clickouts,\n",
    "    avg(ssm.clickout_rev) as revenue\n",
    "from\n",
    "    trivago_analytic.session_stats_master as ssm\n",
    "where\n",
    "    ssm.crawler_id = 0\n",
    "    and ssm.is_core\n",
    "    and (array_contains(tags, 'releasecontrol'))\n",
    "    -- ymd filter\n",
    "    and ymd between 20210621 and 20210705\n",
    "    -- traffic filter\n",
    "    and (array_contains(control_group_set_php.mantis_id, 57256L)\n",
    "         or array_contains(test_group_set_php.mantis_id, 57256L))\n",
    "    and ssm.session_date_id between 2021062118*1e9 and 2021070523999999999\n",
    "    and substr(cast(ssm.release_string as string), 1, 4) in ('9306', 'arp', '9307')\n",
    "group by    \n",
    "    if(array_contains(test_group_set_php.mantis_id, 57256L),\n",
    "       'test', 'control'),\n",
    "    ssm.ymd\n",
    "'''\n",
    "print(query.format(db=db, table_name=table_name))"
   ]
  },
  {
   "cell_type": "markdown",
   "id": "92ad5074-3951-4055-a01c-d9c0c8391421",
   "metadata": {},
   "source": [
    "### Option 3: Dictionary unpacking"
   ]
  },
  {
   "cell_type": "code",
   "execution_count": 30,
   "id": "f591c0e7-80c3-445a-8f46-f7c5abb6c063",
   "metadata": {},
   "outputs": [
    {
     "name": "stdout",
     "output_type": "stream",
     "text": [
      "{'db': 'gleyson', 'table_name': 'basic_sanity_check'}\n"
     ]
    }
   ],
   "source": [
    "query_kws = dict(db=db, table_name=table_name)\n",
    "print(query_kws)"
   ]
  },
  {
   "cell_type": "code",
   "execution_count": 31,
   "id": "d49e725d-c52e-475f-a445-fa4d91342495",
   "metadata": {},
   "outputs": [
    {
     "name": "stdout",
     "output_type": "stream",
     "text": [
      "\n",
      "create gleyson.basic_sanity_check\n",
      "    stored as parquet as \n",
      "select\n",
      "    -- indices\n",
      "    if(array_contains(test_group_set_php.mantis_id, 57256L),\n",
      "       'test', 'control') AS group_id,\n",
      "    ssm.ymd as ymd,\n",
      "    -- aggreates\n",
      "    count(*) as visits,\n",
      "    avg(ssm.pc_cos) as clickouts,\n",
      "    avg(ssm.clickout_rev) as revenue\n",
      "from\n",
      "    trivago_analytic.session_stats_master as ssm\n",
      "where\n",
      "    ssm.crawler_id = 0\n",
      "    and ssm.is_core\n",
      "    and (array_contains(tags, 'releasecontrol'))\n",
      "    -- ymd filter\n",
      "    and ymd between 20210621 and 20210705\n",
      "    -- traffic filter\n",
      "    and (array_contains(control_group_set_php.mantis_id, 57256L)\n",
      "         or array_contains(test_group_set_php.mantis_id, 57256L))\n",
      "    and ssm.session_date_id between 2021062118*1e9 and 2021070523999999999\n",
      "    and substr(cast(ssm.release_string as string), 1, 4) in ('9306', 'arp', '9307')\n",
      "group by    \n",
      "    if(array_contains(test_group_set_php.mantis_id, 57256L),\n",
      "       'test', 'control'),\n",
      "    ssm.ymd\n",
      "\n"
     ]
    }
   ],
   "source": [
    "print(query.format(**query_kws))"
   ]
  },
  {
   "cell_type": "code",
   "execution_count": null,
   "id": "bf987441-250a-481a-8239-61dc0bc7f9f0",
   "metadata": {},
   "outputs": [],
   "source": []
  },
  {
   "cell_type": "code",
   "execution_count": null,
   "id": "5a4c2e96-56b4-4a3f-8108-61c0418157d9",
   "metadata": {},
   "outputs": [],
   "source": []
  }
 ],
 "metadata": {
  "kernelspec": {
   "display_name": "Python 3",
   "language": "python",
   "name": "python3"
  },
  "language_info": {
   "codemirror_mode": {
    "name": "ipython",
    "version": 3
   },
   "file_extension": ".py",
   "mimetype": "text/x-python",
   "name": "python",
   "nbconvert_exporter": "python",
   "pygments_lexer": "ipython3",
   "version": "3.7.10"
  }
 },
 "nbformat": 4,
 "nbformat_minor": 5
}
